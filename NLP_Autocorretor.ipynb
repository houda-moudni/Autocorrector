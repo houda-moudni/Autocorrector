{
 "cells": [
  {
   "cell_type": "markdown",
   "id": "ba5e35a7",
   "metadata": {},
   "source": [
    "# AUTOCORRECTOR : With min edit distance"
   ]
  },
  {
   "cell_type": "code",
   "execution_count": 1,
   "id": "e0314039-dea5-43a8-905f-12cef2fb4399",
   "metadata": {},
   "outputs": [],
   "source": [
    "import numpy as np\n",
    "from fuzzy import Soundex\n",
    "import re\n",
    "import ast"
   ]
  },
  {
   "cell_type": "markdown",
   "id": "d691e633",
   "metadata": {},
   "source": [
    "## THE KEYBOARD PROXIMITY"
   ]
  },
  {
   "cell_type": "code",
   "execution_count": 2,
   "id": "848e74fa-61e0-4b8f-a82e-9234bd190d65",
   "metadata": {},
   "outputs": [],
   "source": [
    "KEY = ast.literal_eval(open(\"./pa_files/qwerty_graph.txt\").read())\n",
    "\n",
    "def find_key(key): \n",
    "    return KEY[key]\n",
    "\n",
    "def neighboor_keys(key): \n",
    "    return [KEY[key][k] for k in KEY[key].keys()]"
   ]
  },
  {
   "cell_type": "code",
   "execution_count": 3,
   "id": "b9514a15-b02d-4a1d-92d4-f8643a806a7d",
   "metadata": {},
   "outputs": [],
   "source": [
    "def del_cost():\n",
    "    return 1\n",
    "\n",
    "def ins_cost():\n",
    "    return 1\n",
    "\n",
    "def sub_cost(a, b):\n",
    "    if a == b :\n",
    "        return 0\n",
    "    else:\n",
    "        if a in neighboor_keys(b):\n",
    "            return 1\n",
    "        else:\n",
    "            return 2\n",
    "        \n",
    "def trans_cost(w01, w02, w11, w12):\n",
    "    if w01 == w02 and w11 == w12:\n",
    "        return 2\n",
    "    else :\n",
    "        return 4 "
   ]
  },
  {
   "cell_type": "markdown",
   "id": "8e235b7d-bb14-4ceb-8a31-ea1178775a62",
   "metadata": {},
   "source": [
    "## EDIT DISTANCE ALGORITHM "
   ]
  },
  {
   "cell_type": "code",
   "execution_count": 4,
   "id": "ea64106d-96c5-45b7-ba43-7bcd475848ea",
   "metadata": {},
   "outputs": [],
   "source": [
    "def back_trace(edit_matrix, source, target):\n",
    "    \n",
    "    dist_matrix = np.empty((len(source)+1, len(target)+1), dtype=object)\n",
    "    \n",
    "    dist_matrix[0,:] = 'D'\n",
    "    dist_matrix[:,0] = 'L'\n",
    "    dist_matrix[0,0] = '0'\n",
    "    \n",
    "    for i in range(1, len(source) + 1):\n",
    "        for j in range(1, len(target) + 1):\n",
    "            \n",
    "            dele = edit_matrix[i-1, j] + del_cost()\n",
    "            ins = edit_matrix[i, j-1] + ins_cost()\n",
    "            sub = edit_matrix[i-1, j-1] + sub_cost(source[i-1], target[j-1])\n",
    "\n",
    "            min_cost = min(dele, ins, sub)\n",
    "\n",
    "            edit_ops = \"\"\n",
    "            if min_cost == dele:\n",
    "                edit_ops += 'D'\n",
    "            if min_cost == ins:\n",
    "                edit_ops += 'L'\n",
    "            if min_cost == sub:\n",
    "                edit_ops += 'G'\n",
    "\n",
    "            dist_matrix[i, j] = edit_ops\n",
    "         \n",
    "    return dist_matrix\n",
    "                "
   ]
  },
  {
   "cell_type": "code",
   "execution_count": 5,
   "id": "2d6ddc54-7013-42ef-8530-3a822863ea0c",
   "metadata": {},
   "outputs": [],
   "source": [
    "\n",
    "def min_edit_distance(source, target, do_print_chart=False, do_back_trace=False):\n",
    "\n",
    "    edit_matrix = np.zeros((len(source)+1, len(target)+1))\n",
    "    edit_matrix[:, 0] = [i for i in range(len(source) + 1)]\n",
    "    edit_matrix[0,:] = [j for j in range(len(target) + 1)]\n",
    "    \n",
    "    for i in range(1, len(source)+1):\n",
    "        for j in range(1, len(target)+1):\n",
    "            edit_matrix[i,j] = min(edit_matrix[i-1,j] + del_cost(), \n",
    "                               edit_matrix[i,j-1] + ins_cost() , \n",
    "                               edit_matrix[i-1,j-1] + sub_cost(source[i-1], target[j-1]))\n",
    "\n",
    "    if(do_print_chart):\n",
    "        print(edit_matrix)\n",
    "        \n",
    "    if(do_back_trace):\n",
    "        print(back_trace(edit_matrix,source,target))\n",
    "        \n",
    "    return edit_matrix[-1,-1]"
   ]
  },
  {
   "cell_type": "code",
   "execution_count": 6,
   "id": "ebe8443d",
   "metadata": {},
   "outputs": [
    {
     "name": "stdout",
     "output_type": "stream",
     "text": [
      "[[0. 1. 2. 3. 4.]\n",
      " [1. 0. 1. 2. 3.]\n",
      " [2. 1. 0. 1. 2.]\n",
      " [3. 2. 1. 1. 2.]\n",
      " [4. 3. 2. 1. 1.]]\n",
      "[['0' 'D' 'D' 'D' 'D']\n",
      " ['L' 'G' 'L' 'L' 'L']\n",
      " ['L' 'D' 'G' 'L' 'L']\n",
      " ['L' 'D' 'D' 'G' 'LG']\n",
      " ['L' 'D' 'D' 'G' 'G']]\n"
     ]
    },
    {
     "data": {
      "text/plain": [
       "1.0"
      ]
     },
     "execution_count": 6,
     "metadata": {},
     "output_type": "execute_result"
    }
   ],
   "source": [
    "min_edit_distance(\"tail\", \"tall\", do_print_chart=True, do_back_trace=True)"
   ]
  },
  {
   "cell_type": "markdown",
   "id": "5a286448-a219-4264-ae55-b4433ba15ae5",
   "metadata": {},
   "source": [
    "## AutoCorrector V.1"
   ]
  },
  {
   "cell_type": "code",
   "execution_count": 7,
   "id": "f0e0014a-6a18-4e2b-8331-5bcf406bdbab",
   "metadata": {},
   "outputs": [],
   "source": [
    "def words(text): return re.findall(r'\\w+', text.lower())"
   ]
  },
  {
   "cell_type": "code",
   "execution_count": 8,
   "id": "7a0d4d60-cd7f-49d5-ba2f-664aca044326",
   "metadata": {},
   "outputs": [],
   "source": [
    "WORDS = words(open('./pa_files/big.txt').read())"
   ]
  },
  {
   "cell_type": "code",
   "execution_count": 9,
   "id": "5f96a26a-9dd0-48ac-85b2-c5a9e26113b5",
   "metadata": {},
   "outputs": [],
   "source": [
    "def candidates(word): \n",
    "    \n",
    "    set_of_words= set(WORDS)\n",
    "\n",
    "    words_with_med = [(w,min_edit_distance(w, word)) for w in set_of_words]\n",
    "\n",
    "    words_with_med = sorted(words_with_med, key=lambda x: x[1])\n",
    "\n",
    "    return words_with_med\n"
   ]
  },
  {
   "cell_type": "code",
   "execution_count": 10,
   "id": "6768f6e8-5611-4fc9-8e29-3136d0debc37",
   "metadata": {},
   "outputs": [],
   "source": [
    "\n",
    "def candidates_correction(word , k=1):\n",
    "    if(len(candidates(word)) > k):\n",
    "        return candidates(word)[0:k]\n",
    "    else :\n",
    "        return candidates(word)\n"
   ]
  },
  {
   "cell_type": "code",
   "execution_count": 11,
   "id": "f23ec5a7-7a09-461e-9f80-7142588f3ed4",
   "metadata": {},
   "outputs": [
    {
     "data": {
      "text/plain": [
       "[('gorgeous', 2.0),\n",
       " ('nervous', 3.0),\n",
       " ('onerous', 3.0),\n",
       " ('forgo', 4.0),\n",
       " ('generous', 4.0),\n",
       " ('gros', 4.0),\n",
       " ('grievous', 4.0),\n",
       " ('porous', 4.0),\n",
       " ('gorge', 4.0),\n",
       " ('governors', 4.0)]"
      ]
     },
     "execution_count": 11,
     "metadata": {},
     "output_type": "execute_result"
    }
   ],
   "source": [
    "candidates_correction(\"goergous\", k=10)"
   ]
  },
  {
   "cell_type": "markdown",
   "id": "b01c00c8-a3c3-4035-b523-1c1b62e18a79",
   "metadata": {},
   "source": [
    "## Optimiser Autocorrecteur"
   ]
  },
  {
   "cell_type": "code",
   "execution_count": 12,
   "id": "3e51410e",
   "metadata": {},
   "outputs": [],
   "source": [
    "def lengths_close(word1, word2, threshold=2):\n",
    "    return abs(len(word1) - len(word2)) <= threshold "
   ]
  },
  {
   "cell_type": "code",
   "execution_count": 13,
   "id": "738ad867",
   "metadata": {},
   "outputs": [],
   "source": [
    "def candidates_v2(word): \n",
    "\n",
    "    soundex = Soundex(4)\n",
    "    \n",
    "    tab = [w for w in [w for w in [w for w in set(WORDS) \n",
    "                                   if w[0] == word[0]]\n",
    "                                    if soundex(word)==soundex(w)] \n",
    "                                     if lengths_close(word, w)]\n",
    "    \n",
    "    words_with_med = sorted([(w,min_edit_distance(w, word)) for w in tab] , key=lambda x: x[1])\n",
    "    return words_with_med\n",
    "\n"
   ]
  },
  {
   "cell_type": "code",
   "execution_count": 14,
   "id": "9eb0c1fd-dd71-46ed-b13e-863ec6a8f602",
   "metadata": {},
   "outputs": [],
   "source": [
    "def candidates_correction(word , k=1):\n",
    "    \n",
    "    if(len(candidates_v2(word)) > k):\n",
    "        return candidates_v2(word)[0:k]\n",
    "    else :\n",
    "        return candidates_v2(word)"
   ]
  },
  {
   "cell_type": "code",
   "execution_count": 15,
   "id": "e6be74da",
   "metadata": {},
   "outputs": [
    {
     "data": {
      "text/plain": [
       "[('gorge', 3.0),\n",
       " ('gorgeous', 3.0),\n",
       " ('gorges', 3.0),\n",
       " ('gowers', 3.0),\n",
       " ('georgia', 4.0),\n",
       " ('grows', 4.0),\n",
       " ('george', 4.0),\n",
       " ('gross', 4.0),\n",
       " ('georges', 4.0),\n",
       " ('growers', 4.0)]"
      ]
     },
     "execution_count": 15,
     "metadata": {},
     "output_type": "execute_result"
    }
   ],
   "source": [
    "candidates_correction(\"goergos\", k=10)"
   ]
  },
  {
   "cell_type": "code",
   "execution_count": 18,
   "id": "1e4967e2-c2f7-4a3d-b30c-7cfce95c82d9",
   "metadata": {},
   "outputs": [
    {
     "data": {
      "text/plain": [
       "[('worm', 0.0),\n",
       " ('worn', 1.0),\n",
       " ('warm', 2.0),\n",
       " ('warn', 3.0),\n",
       " ('warne', 4.0),\n",
       " ('warman', 4.0),\n",
       " ('weren', 4.0),\n",
       " ('warren', 5.0)]"
      ]
     },
     "execution_count": 18,
     "metadata": {},
     "output_type": "execute_result"
    }
   ],
   "source": [
    "candidates_correction(\"worm\", k=10)"
   ]
  },
  {
   "cell_type": "markdown",
   "id": "1c34edd2",
   "metadata": {},
   "source": [
    "#### made by :\n",
    "- *Moudni Houda* : houda.moudni@etu.uae.ac.ma\n",
    "- *Mountassir Chadi* : chadi.mountassir@etu.uae.ac.ma"
   ]
  }
 ],
 "metadata": {
  "kernelspec": {
   "display_name": "Python 3 (ipykernel)",
   "language": "python",
   "name": "python3"
  },
  "language_info": {
   "codemirror_mode": {
    "name": "ipython",
    "version": 3
   },
   "file_extension": ".py",
   "mimetype": "text/x-python",
   "name": "python",
   "nbconvert_exporter": "python",
   "pygments_lexer": "ipython3",
   "version": "3.11.7"
  }
 },
 "nbformat": 4,
 "nbformat_minor": 5
}
